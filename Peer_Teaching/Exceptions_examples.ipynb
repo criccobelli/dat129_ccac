{
 "cells": [
  {
   "cell_type": "code",
   "execution_count": null,
   "metadata": {},
   "outputs": [],
   "source": [
    "def fetcher(obj, index):\n",
    "    return obj[index]\n",
    "\n",
    "#the system will trigger errors (exceptions) when we make mistakes\n",
    "x = 'spam'\n",
    "fetcher(x, 4)"
   ]
  },
  {
   "cell_type": "code",
   "execution_count": null,
   "metadata": {},
   "outputs": [],
   "source": [
    "#when you don't want the default exception behavior, try to catch the exceptions yourself:\n",
    "try:\n",
    "    fetcher(x, 4)\n",
    "except IndexError:  #looking for this type of error\n",
    "    print('got exception')"
   ]
  },
  {
   "cell_type": "code",
   "execution_count": null,
   "metadata": {},
   "outputs": [],
   "source": [
    "#recover from error and continue running\n",
    "def catcher():\n",
    "    try:\n",
    "        fetcher(x, 4)\n",
    "    except IndexError: #catch\n",
    "            print('got exception')\n",
    "    print('continuing') #recover\n",
    "catcher()"
   ]
  },
  {
   "cell_type": "code",
   "execution_count": null,
   "metadata": {},
   "outputs": [],
   "source": [
    "#the finally action will run if there is or isn't an exception\n",
    "def after():\n",
    "    try:\n",
    "        fetcher(x, 4)\n",
    "    finally:\n",
    "        print('after fetch')\n",
    "    print('after try?')\n",
    "after()\n",
    "#program is unwound after the finally if there is an exception in the try block\n",
    "#thus the default handler is triggered in this case"
   ]
  },
  {
   "cell_type": "code",
   "execution_count": null,
   "metadata": {},
   "outputs": [],
   "source": [
    "#use raise to trigger the exception manually\n",
    "try:\n",
    "    raise IndexError \n",
    "except IndexError:\n",
    "            print('got exception')\n",
    "print('continuing')"
   ]
  },
  {
   "cell_type": "code",
   "execution_count": null,
   "metadata": {},
   "outputs": [],
   "source": [
    "raise Exception('exception!') #not in a try block, so will not continue running\n",
    "print('continuing')"
   ]
  },
  {
   "cell_type": "code",
   "execution_count": null,
   "metadata": {},
   "outputs": [],
   "source": [
    "#debugging with assert\n",
    "y = \"hello\"\n",
    "assert y == \"goodbye\", \"the assertion was not true\"   #checks True/False, can add a False message to the assert statement"
   ]
  },
  {
   "cell_type": "code",
   "execution_count": null,
   "metadata": {},
   "outputs": [],
   "source": [
    "#if condition is True, nothing happens\n",
    "assert y == \"hello\"\n",
    "\n",
    "#generally not for catching programming errors, since Python already does that"
   ]
  },
  {
   "cell_type": "code",
   "execution_count": null,
   "metadata": {},
   "outputs": [],
   "source": [
    "#with/as can be used to ensure it is closed.\n",
    "#below does not close the file\n",
    "for line in open(\"myfile.txt\"):\n",
    "    print(line, end=\"\")"
   ]
  },
  {
   "cell_type": "code",
   "execution_count": null,
   "metadata": {},
   "outputs": [],
   "source": [
    "#file will be closed even if the for loop raised an exception part-way through the block.\n",
    "with open(\"myfile.txt\") as f:\n",
    "    for line in f:\n",
    "        print(line, end=\"\")"
   ]
  }
 ],
 "metadata": {
  "kernelspec": {
   "display_name": "Python 3",
   "language": "python",
   "name": "python3"
  },
  "language_info": {
   "codemirror_mode": {
    "name": "ipython",
    "version": 3
   },
   "file_extension": ".py",
   "mimetype": "text/x-python",
   "name": "python",
   "nbconvert_exporter": "python",
   "pygments_lexer": "ipython3",
   "version": "3.7.4"
  }
 },
 "nbformat": 4,
 "nbformat_minor": 2
}
